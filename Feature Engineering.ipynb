{
 "cells": [
  {
   "cell_type": "markdown",
   "id": "10ee7701-f53d-4c73-a44a-843cfacb37f3",
   "metadata": {},
   "source": [
    "# Feature Engineering"
   ]
  },
  {
   "cell_type": "markdown",
   "id": "5ae698dc-5e5e-4eae-a5a4-d1af58883ad8",
   "metadata": {},
   "source": [
    "This notebook contains all the codes that we can use for feature engineering"
   ]
  },
  {
   "cell_type": "code",
   "execution_count": null,
   "id": "e6a1fedd-0c04-41d7-b3b8-55586c97054f",
   "metadata": {},
   "outputs": [],
   "source": []
  }
 ],
 "metadata": {
  "kernelspec": {
   "display_name": "Python 3 (ipykernel)",
   "language": "python",
   "name": "python3"
  },
  "language_info": {
   "codemirror_mode": {
    "name": "ipython",
    "version": 3
   },
   "file_extension": ".py",
   "mimetype": "text/x-python",
   "name": "python",
   "nbconvert_exporter": "python",
   "pygments_lexer": "ipython3",
   "version": "3.11.5"
  }
 },
 "nbformat": 4,
 "nbformat_minor": 5
}
