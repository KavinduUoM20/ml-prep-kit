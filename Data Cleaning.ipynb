{
 "cells": [
  {
   "cell_type": "markdown",
   "id": "94d40d37-0f8e-4f53-811b-a9f6a888f745",
   "metadata": {},
   "source": [
    "# Data Cleaning"
   ]
  },
  {
   "cell_type": "markdown",
   "id": "2cfccb38-6c84-4e9f-8dd2-206979e35224",
   "metadata": {},
   "source": [
    "This notebook contains all the codes we can use for data cleaning."
   ]
  },
  {
   "cell_type": "code",
   "execution_count": null,
   "id": "8545dd82-a060-4d3d-bc2e-dc4d665e5dfd",
   "metadata": {},
   "outputs": [],
   "source": []
  }
 ],
 "metadata": {
  "kernelspec": {
   "display_name": "Python 3 (ipykernel)",
   "language": "python",
   "name": "python3"
  },
  "language_info": {
   "codemirror_mode": {
    "name": "ipython",
    "version": 3
   },
   "file_extension": ".py",
   "mimetype": "text/x-python",
   "name": "python",
   "nbconvert_exporter": "python",
   "pygments_lexer": "ipython3",
   "version": "3.11.5"
  }
 },
 "nbformat": 4,
 "nbformat_minor": 5
}
